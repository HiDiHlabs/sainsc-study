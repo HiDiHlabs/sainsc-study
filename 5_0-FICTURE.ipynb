{
 "cells": [
  {
   "cell_type": "code",
   "execution_count": null,
   "id": "04452c70-6832-4532-a4f2-03f7e2b0113d",
   "metadata": {},
   "outputs": [],
   "source": [
    "import os\n",
    "from datetime import datetime\n",
    "from pathlib import Path\n",
    "\n",
    "import pandas as pd"
   ]
  },
  {
   "cell_type": "code",
   "execution_count": null,
   "id": "9978ae37-bf5a-4662-9c3a-d49b13c15a0b",
   "metadata": {},
   "outputs": [],
   "source": [
    "# inputs\n",
    "data_path = Path(\"data\")\n",
    "stereo_seq_file = data_path / \"StereoSeq\" / \"Mouse_brain_Adult_GEM_bin1.tsv.gz\"\n",
    "\n",
    "# outputs\n",
    "ficture_path = Path(\"FICTURE\")\n",
    "transformed_data_path = ficture_path / \"MouseBrain.tsv.gz\""
   ]
  },
  {
   "cell_type": "code",
   "execution_count": null,
   "id": "0cb9fc7d-bb2c-441c-bdd6-a061e28eb7a3",
   "metadata": {},
   "outputs": [],
   "source": [
    "ficture_path.mkdir(parents=True, exist_ok=True)"
   ]
  },
  {
   "cell_type": "code",
   "execution_count": null,
   "id": "84769a7a-75c4-4955-8331-762141c2105c",
   "metadata": {},
   "outputs": [],
   "source": [
    "# Ficture needs sorted input and defined column names\n",
    "pd.read_table(stereo_seq_file, comment=\"#\", dtype={\"geneID\": \"category\"}).rename(\n",
    "    columns={\"x\": \"X\", \"y\": \"Y\", \"geneID\": \"gene\", \"MIDCounts\": \"Count\"}\n",
    ").sort_values(\"X\").to_csv(transformed_data_path, sep=\"\\t\", index=False)"
   ]
  },
  {
   "cell_type": "code",
   "execution_count": null,
   "id": "40c53a4d-3aff-4832-892a-aa913212dde8",
   "metadata": {},
   "outputs": [],
   "source": [
    "conda_env = \"ficture\"\n",
    "conda_path = \"~/miniconda3/bin/activate\"\n",
    "\n",
    "conda_cmd = f\"source {conda_path} {conda_env}\""
   ]
  },
  {
   "cell_type": "code",
   "execution_count": null,
   "id": "cfbbc4d0-7fcc-4c6f-87a9-1068eac367b2",
   "metadata": {},
   "outputs": [],
   "source": [
    "for n_threads, n_jobs in [(1, 1), (8, 2)]:\n",
    "    outpath = ficture_path / f\"minimal_nthread{n_threads}\"\n",
    "    ficture_cmd = (\n",
    "        \"ficture run_together \"\n",
    "        \"--all \"\n",
    "        \"--restart \"\n",
    "        \"--dry-run \"\n",
    "        \"--mu-scale 2 \"\n",
    "        \"--major-axis X \"\n",
    "        \"--n-factor 42 \"\n",
    "        \"--train-width 15 \"\n",
    "        f\"--in-tsv {transformed_data_path} \"\n",
    "        f\"--out-dir {outpath} \"\n",
    "        f\"--threads {n_threads} \"\n",
    "        f\"--n-jobs {n_jobs} \"\n",
    "    )\n",
    "\n",
    "    _ = os.popen(f\"{conda_cmd} && {ficture_cmd}\")"
   ]
  },
  {
   "cell_type": "markdown",
   "id": "7027aa39-1142-4408-a7d9-86bee3ad88d8",
   "metadata": {},
   "source": [
    "Modify the generated Makefiles by removing the non-essential parts e.g. plotting, bulk DE analysis."
   ]
  },
  {
   "cell_type": "code",
   "execution_count": null,
   "id": "a84c5b08-033f-4f01-b433-dd0ebba175ec",
   "metadata": {},
   "outputs": [],
   "source": [
    "for n_threads, n_jobs in [(1, 1), (8, 2)]:\n",
    "    outpath = ficture_path / f\"minimal_nthread{n_threads}\"\n",
    "\n",
    "    ficture_cmd = f\"make -f {outpath}/Makefile -j {n_jobs}\"\n",
    "\n",
    "    id_string = os.popen(\n",
    "        \"sbatch -J FICTURE --mem=128G -n 8 -N 1 \"\n",
    "        f\"-o {ficture_path/'minimal_nthread'}{n_threads}.log \"\n",
    "        \"--time=24:00:00 \"\n",
    "        f'--wrap=\"{conda_cmd} && {ficture_cmd}\" '\n",
    "    ).read()\n",
    "\n",
    "    print(id_string)"
   ]
  },
  {
   "cell_type": "code",
   "execution_count": null,
   "id": "4d901567-a608-45fe-8678-7c8c7f61d3b7",
   "metadata": {},
   "outputs": [],
   "source": []
  }
 ],
 "metadata": {
  "kernelspec": {
   "display_name": "Python [conda env:muellni-ficture]",
   "language": "python",
   "name": "conda-env-muellni-ficture-py"
  },
  "language_info": {
   "codemirror_mode": {
    "name": "ipython",
    "version": 3
   },
   "file_extension": ".py",
   "mimetype": "text/x-python",
   "name": "python",
   "nbconvert_exporter": "python",
   "pygments_lexer": "ipython3",
   "version": "3.10.14"
  }
 },
 "nbformat": 4,
 "nbformat_minor": 5
}
