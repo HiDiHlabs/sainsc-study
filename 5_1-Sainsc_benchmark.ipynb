{
 "cells": [
  {
   "cell_type": "markdown",
   "id": "e4ea2584-c27e-4586-a54e-cb3f6362378d",
   "metadata": {},
   "source": [
    "# Imports and files"
   ]
  },
  {
   "cell_type": "code",
   "execution_count": 1,
   "id": "abc1f85f-3107-4ddd-9ede-b11e746a9fb0",
   "metadata": {},
   "outputs": [],
   "source": [
    "import os\n",
    "from datetime import datetime\n",
    "from pathlib import Path\n",
    "\n",
    "import pandas as pd"
   ]
  },
  {
   "cell_type": "code",
   "execution_count": 2,
   "id": "26dadab4-992a-4ac0-8a1f-8847778e1068",
   "metadata": {},
   "outputs": [],
   "source": [
    "data_path = Path(\"data\")\n",
    "analysis_path = Path(\"benchmark\")\n",
    "\n",
    "stereo_seq_file = data_path / \"StereoSeq\" / \"Mouse_brain_Adult_GEM_bin1.tsv.gz\"\n",
    "\n",
    "signature_file = Path(\".\") / \"yao_brain_signatures_log.tsv\"\n",
    "script_file = Path(\".\") / \"sainsc_benchmark.py\"\n",
    "\n",
    "de_genes_file = data_path / \"ABC_atlas\" / \"DE_genes.xlsx\"\n",
    "ficture_file = (\n",
    "    Path(\"FICTURE/minimal_nthread1/analysis/nF42.d_15\")\n",
    "    / \"nF42.d_15.posterior.count.tsv.gz\"\n",
    ")\n",
    "\n",
    "julia_path = Path(\"julia\")\n",
    "julia_script = julia_path / \"benchmark.jl\""
   ]
  },
  {
   "cell_type": "code",
   "execution_count": 3,
   "id": "d8fad77b-1fc3-416d-96df-6958f46a764b",
   "metadata": {},
   "outputs": [],
   "source": [
    "analysis_path.mkdir(exist_ok=True, parents=True)"
   ]
  },
  {
   "cell_type": "code",
   "execution_count": 4,
   "id": "36e99a12-60df-4b27-8567-339db91ce447",
   "metadata": {},
   "outputs": [],
   "source": [
    "conda_env = \"sainsc2\"\n",
    "conda_path = \"~/miniconda3/bin/activate\"\n",
    "\n",
    "conda_cmd = f\"source {conda_path} {conda_env}\""
   ]
  },
  {
   "cell_type": "code",
   "execution_count": 5,
   "id": "b5e57cb0-009d-487e-8a7c-1ddcac1165b5",
   "metadata": {},
   "outputs": [],
   "source": [
    "# ensure submitting to nodes with same hardware\n",
    "partition = \"-p compute-96cpu-700GB-RAM\""
   ]
  },
  {
   "cell_type": "markdown",
   "id": "7fc26ab6-b6aa-4057-a2d8-b570bce054fc",
   "metadata": {},
   "source": [
    "# Comparison to FICTURE/TopACT"
   ]
  },
  {
   "cell_type": "code",
   "execution_count": 20,
   "id": "3e2e7b96-476f-4451-9b07-46a33fd9cfa6",
   "metadata": {},
   "outputs": [
    {
     "name": "stdout",
     "output_type": "stream",
     "text": [
      "Submitted batch job 3789462\n",
      "\n"
     ]
    }
   ],
   "source": [
    "gene_file = analysis_path / \"genes_8k.txt\"\n",
    "\n",
    "pd.read_excel(\n",
    "    de_genes_file, sheet_name=\"DE_gene_list\", header=None, names=[\"gene\"]\n",
    ").loc[:, \"gene\"].to_csv(gene_file, header=False, index=False)\n",
    "\n",
    "cmd = (\n",
    "    f\"{script_file.resolve()} {stereo_seq_file} {signature_file} \"\n",
    "    \"--n_threads 8 \"\n",
    "    f\"--genes {gene_file}\"\n",
    ")\n",
    "\n",
    "id_string = os.popen(\n",
    "    \"sbatch -J sainsc_8k --mem=64G -n 8 -N 1 \"\n",
    "    f\"-o {analysis_path/'8k_genes_log.txt'} \"\n",
    "    \"--time=3:00:00 \"\n",
    "    \"--exclusive \"\n",
    "    f\"{partition} \"\n",
    "    f'--wrap=\"{conda_cmd} && {cmd}\" '\n",
    ").read()\n",
    "\n",
    "print(id_string)"
   ]
  },
  {
   "cell_type": "markdown",
   "id": "4ad79efc-f899-42b0-9b51-644449e58eaa",
   "metadata": {},
   "source": [
    "# Scaling with Threads"
   ]
  },
  {
   "cell_type": "markdown",
   "id": "6f406b9d-831b-471f-9218-de8b30d2f1e7",
   "metadata": {},
   "source": [
    "Here we are going to use the same genes as FICTURE for comparability."
   ]
  },
  {
   "cell_type": "code",
   "execution_count": 11,
   "id": "6d60a90c-50e8-4c11-aceb-7c263592c5d8",
   "metadata": {},
   "outputs": [
    {
     "name": "stdout",
     "output_type": "stream",
     "text": [
      "Threads: 8\n",
      "Submitted batch job 3788941\n",
      "\n",
      "Threads: 16\n",
      "Submitted batch job 3788942\n",
      "\n",
      "Threads: 32\n",
      "Submitted batch job 3788943\n",
      "\n",
      "Threads: 96\n",
      "Submitted batch job 3788944\n",
      "\n"
     ]
    }
   ],
   "source": [
    "gene_file = analysis_path / \"genes_ficture.txt\"\n",
    "\n",
    "for n_threads in [8, 16, 32, 96]:\n",
    "    log = analysis_path / f\"Threads-{n_threads}.txt\"\n",
    "    cmd = (\n",
    "        f\"{script_file.resolve()} {stereo_seq_file} {signature_file} \"\n",
    "        f\"--n_threads {n_threads} \"\n",
    "        f\"--genes {gene_file} \"\n",
    "    )\n",
    "\n",
    "    id_string = os.popen(\n",
    "        f\"sbatch -J sainsc --mem=64G -n {n_threads} -N 1 \"\n",
    "        f\"-o {log} \"\n",
    "        \"--time=4:00:00 \"\n",
    "        \"--exclusive \"\n",
    "        f\"{partition} \"\n",
    "        f'--wrap=\"{conda_cmd} && {cmd}\" '\n",
    "    ).read()\n",
    "\n",
    "    print(f\"Threads: {n_threads}\")\n",
    "    print(id_string)"
   ]
  },
  {
   "cell_type": "markdown",
   "id": "012278e9-afab-48e6-ac6e-1f126eb612db",
   "metadata": {},
   "source": [
    "### Julia"
   ]
  },
  {
   "cell_type": "code",
   "execution_count": 13,
   "id": "4a35c232-1e9c-47cc-b9ee-cf51cdb89884",
   "metadata": {},
   "outputs": [
    {
     "name": "stdout",
     "output_type": "stream",
     "text": [
      "Threads: 8\n",
      "Submitted batch job 3788945\n",
      "\n",
      "Threads: 16\n",
      "Submitted batch job 3788946\n",
      "\n",
      "Threads: 32\n",
      "Submitted batch job 3788947\n",
      "\n",
      "Threads: 96\n",
      "Submitted batch job 3788948\n",
      "\n"
     ]
    }
   ],
   "source": [
    "gene_file = analysis_path / \"genes_ficture.txt\"\n",
    "\n",
    "\n",
    "for n_threads in [8, 16, 32, 96]:\n",
    "    log = analysis_path / f\"Threads-{n_threads}_julia.txt\"\n",
    "    cmd = (\n",
    "        \"julia \"\n",
    "        f\"--project={julia_path.resolve()} \"\n",
    "        f\"--threads={n_threads} \"\n",
    "        \"-- \"\n",
    "        f\"{julia_script.resolve()} {stereo_seq_file.resolve()} {signature_file.resolve()} {gene_file.resolve()}\"\n",
    "    )\n",
    "    id_string = os.popen(\n",
    "        f\"sbatch -J sainsc.jl --mem=64G -n {n_threads} -N 1 \"\n",
    "        f\"-o {log} \"\n",
    "        \"--time=4:00:00 \"\n",
    "        \"--exclusive \"\n",
    "        f\"{partition} \"\n",
    "        f'--wrap=\"{cmd}\" '\n",
    "    ).read()\n",
    "\n",
    "    print(f\"Threads: {n_threads}\")\n",
    "    print(id_string)"
   ]
  },
  {
   "cell_type": "markdown",
   "id": "6e7258e1-1a38-4934-82db-5892c6dfbb82",
   "metadata": {},
   "source": [
    "# How many genes from the signatures are used?"
   ]
  },
  {
   "cell_type": "code",
   "execution_count": 3,
   "id": "341bfa2c-b46b-4aa6-ac9d-4dff48051ff9",
   "metadata": {},
   "outputs": [],
   "source": [
    "from sainsc import read_StereoSeq"
   ]
  },
  {
   "cell_type": "code",
   "execution_count": 4,
   "id": "4df4cf8e-842a-436f-a197-7fd4120e11b5",
   "metadata": {},
   "outputs": [],
   "source": [
    "brain = read_StereoSeq(stereo_seq_file)"
   ]
  },
  {
   "cell_type": "code",
   "execution_count": 5,
   "id": "7503495c-a9c8-4914-ade2-83e9954a5dae",
   "metadata": {},
   "outputs": [],
   "source": [
    "signature_genes = pd.read_table(signature_file, index_col=0).index"
   ]
  },
  {
   "cell_type": "code",
   "execution_count": 6,
   "id": "f8d4f223-ce09-435f-92ca-c8ab56aee685",
   "metadata": {},
   "outputs": [
    {
     "data": {
      "text/plain": [
       "7972"
      ]
     },
     "execution_count": 6,
     "metadata": {},
     "output_type": "execute_result"
    }
   ],
   "source": [
    "# 8k ABC atlas DE genes\n",
    "signature_genes.isin(\n",
    "    pd.read_excel(\n",
    "        de_genes_file, sheet_name=\"DE_gene_list\", header=None, names=[\"gene\"]\n",
    "    )[\"gene\"]\n",
    ").sum()"
   ]
  },
  {
   "cell_type": "code",
   "execution_count": 7,
   "id": "fac65732-d221-495f-b4a5-a06263108712",
   "metadata": {},
   "outputs": [
    {
     "data": {
      "text/plain": [
       "19708"
      ]
     },
     "execution_count": 7,
     "metadata": {},
     "output_type": "execute_result"
    }
   ],
   "source": [
    "# Genes used by Ficture\n",
    "signature_genes.isin(pd.read_table(ficture_file, usecols=[\"gene\"])[\"gene\"]).sum()"
   ]
  },
  {
   "cell_type": "markdown",
   "id": "566c3304-b4f7-451f-8fa5-c7b7cba4812c",
   "metadata": {},
   "source": [
    "# Scaling with #genes / #signatures"
   ]
  },
  {
   "cell_type": "code",
   "execution_count": 21,
   "id": "ef94b686-e90c-43d2-a594-205435fd911b",
   "metadata": {},
   "outputs": [],
   "source": [
    "import random\n",
    "\n",
    "from sainsc import read_StereoSeq"
   ]
  },
  {
   "cell_type": "code",
   "execution_count": 22,
   "id": "3f649673-0889-455a-9801-8822593c09ce",
   "metadata": {},
   "outputs": [],
   "source": [
    "random.seed(42)"
   ]
  },
  {
   "cell_type": "code",
   "execution_count": 23,
   "id": "85b73d63-6b8e-4dde-9f48-2ce4aa6f2167",
   "metadata": {},
   "outputs": [],
   "source": [
    "signatures = pd.read_table(signature_file, index_col=0)"
   ]
  },
  {
   "cell_type": "code",
   "execution_count": 24,
   "id": "97c96f8c-706d-4a16-849f-cb4762802617",
   "metadata": {},
   "outputs": [],
   "source": [
    "brain = read_StereoSeq(stereo_seq_file)"
   ]
  },
  {
   "cell_type": "code",
   "execution_count": 25,
   "id": "679c275a-fdf7-4c74-b85f-eb3ec9dba95d",
   "metadata": {},
   "outputs": [],
   "source": [
    "signatures = signatures.loc[lambda df: df.index.isin(brain.genes)]"
   ]
  },
  {
   "cell_type": "code",
   "execution_count": 16,
   "id": "4d72c978-54a4-494f-920d-7833ce5c2b37",
   "metadata": {},
   "outputs": [],
   "source": [
    "# sample gene sets\n",
    "for i in range(7):\n",
    "    n_genes = 250 * 2**i\n",
    "    genes = random.sample(signatures.index.tolist(), n_genes)\n",
    "    with open(analysis_path / f\"genes_n{n_genes}.txt\", \"w\") as f:\n",
    "        f.write(\"\\n\".join(genes))"
   ]
  },
  {
   "cell_type": "code",
   "execution_count": 17,
   "id": "64b22dff-6158-49f0-80f7-187ac18b9a95",
   "metadata": {},
   "outputs": [],
   "source": [
    "# sample signatures\n",
    "for n_sig in [10, 15, 20, 30, 40]:\n",
    "    celltypes = random.sample(signatures.columns.tolist(), n_sig)\n",
    "    signatures.loc[:, celltypes].to_csv(\n",
    "        analysis_path / f\"sig_n{len(celltypes)}.tsv\", sep=\"\\t\"\n",
    "    )"
   ]
  },
  {
   "cell_type": "code",
   "execution_count": 26,
   "id": "aa47ceb5-5c34-4560-9e9f-76c54d4f709a",
   "metadata": {},
   "outputs": [],
   "source": [
    "jobs = []\n",
    "\n",
    "for i in range(7):\n",
    "    for n_sig in [10, 15, 20, 30, 40]:\n",
    "        n_genes = 250 * 2**i\n",
    "        gene_file = analysis_path / f\"genes_n{n_genes}.txt\"\n",
    "        signature_file = analysis_path / f\"sig_n{n_sig}.tsv\"\n",
    "\n",
    "        cmd = (\n",
    "            f\"{script_file.resolve()} {stereo_seq_file} {signature_file} \"\n",
    "            \"--n_threads 8 \"\n",
    "            f\"--genes {gene_file}\"\n",
    "        )\n",
    "\n",
    "        id_string = os.popen(\n",
    "            \"sbatch -J sainsc_benchmark --mem=32G -n 8 -N 1 \"\n",
    "            f\"-o {analysis_path/f'{n_genes}genes_{n_sig}sigs_log.txt'} \"\n",
    "            \"--time=2:00:00 \"\n",
    "            \"--exclusive \"\n",
    "            f\"{partition} \"\n",
    "            f'--wrap=\"{conda_cmd} && {cmd}\" '\n",
    "        ).read()\n",
    "\n",
    "        jobs.append((id_string, n_genes, n_sig))"
   ]
  },
  {
   "cell_type": "code",
   "execution_count": 7,
   "id": "7bdcad52-b94c-4ed9-b1f1-963ebc7507b7",
   "metadata": {},
   "outputs": [],
   "source": [
    "jobs = []\n",
    "\n",
    "for n_genes, n_sig in [(1000, 20), (4000, 40), (16000, 10)]:\n",
    "    gene_file = analysis_path / f\"genes_n{n_genes}.txt\"\n",
    "    signature_file = analysis_path / f\"sig_n{n_sig}.tsv\"\n",
    "\n",
    "    cmd = (\n",
    "        f\"{script_file.resolve()} {stereo_seq_file} {signature_file} \"\n",
    "        \"--n_threads 8 \"\n",
    "        f\"--genes {gene_file}\"\n",
    "    )\n",
    "\n",
    "    id_string = os.popen(\n",
    "        \"sbatch -J sainsc_benchmark --mem=32G -n 8 -N 1 \"\n",
    "        f\"-o {analysis_path/f'{n_genes}genes_{n_sig}sigs_log.txt'} \"\n",
    "        \"--time=2:00:00 \"\n",
    "        \"--exclusive \"\n",
    "        f\"{partition} \"\n",
    "        f'--wrap=\"{conda_cmd} && {cmd}\" '\n",
    "    ).read()\n",
    "\n",
    "    jobs.append((id_string, n_genes, n_sig))"
   ]
  },
  {
   "cell_type": "code",
   "execution_count": null,
   "id": "10caab6f-8585-4973-9236-1821439846ea",
   "metadata": {},
   "outputs": [],
   "source": [
    "jobs = pd.DataFrame(jobs, columns=[\"jobid\", \"n_genes\", \"n_signatures\"]).assign(\n",
    "    jobid=lambda df: df[\"jobid\"].str.extract(\"(\\d+)\\s$\").astype(int)\n",
    ")"
   ]
  },
  {
   "cell_type": "code",
   "execution_count": 28,
   "id": "1e9a87a5-7706-44a1-b60b-52ed1f169313",
   "metadata": {},
   "outputs": [],
   "source": [
    "jobs.to_csv(analysis_path / \"sainsc_benchmark_genes_sigs.tsv\", sep=\"\\t\", index=False)"
   ]
  },
  {
   "cell_type": "markdown",
   "id": "6d05d1bc-5568-4dea-be31-148cd68d9f73",
   "metadata": {},
   "source": [
    "# Scaling with #transcripts / area"
   ]
  },
  {
   "cell_type": "code",
   "execution_count": 15,
   "id": "4ab73666-66d0-4628-920c-429746540f71",
   "metadata": {},
   "outputs": [],
   "source": [
    "import copy\n",
    "import random\n",
    "from math import sqrt\n",
    "\n",
    "import polars as pl\n",
    "\n",
    "from sainsc import read_StereoSeq"
   ]
  },
  {
   "cell_type": "code",
   "execution_count": 45,
   "id": "76d866fe-9164-4f91-ae80-e3542867951a",
   "metadata": {},
   "outputs": [],
   "source": [
    "seed = 42\n",
    "\n",
    "random.seed(42)"
   ]
  },
  {
   "cell_type": "code",
   "execution_count": 17,
   "id": "c2fe3d98-2482-47d7-a0bd-6de2c1c0530f",
   "metadata": {},
   "outputs": [],
   "source": [
    "brain = read_StereoSeq(stereo_seq_file)"
   ]
  },
  {
   "cell_type": "code",
   "execution_count": 18,
   "id": "86e43be7-0740-4611-a748-12a01c1626b8",
   "metadata": {},
   "outputs": [],
   "source": [
    "# make backup of count object to avoid rereading the file\n",
    "count_bak = copy.copy(brain.counts)"
   ]
  },
  {
   "cell_type": "code",
   "execution_count": 19,
   "id": "c427cd2f-180a-4bad-9d5d-06558c701c3f",
   "metadata": {},
   "outputs": [],
   "source": [
    "center = tuple(i // 2 for i in brain.shape)"
   ]
  },
  {
   "cell_type": "code",
   "execution_count": 42,
   "id": "1156e55a-e869-426e-92ac-b7234a07e220",
   "metadata": {},
   "outputs": [],
   "source": [
    "def write_gem(df, path):\n",
    "    if path.suffix != \".gz\":\n",
    "        path = path.parent / (path.name + \".gz\")\n",
    "\n",
    "    df.rename(columns={\"gene\": \"geneID\", \"count\": \"MIDCount\"}).to_csv(\n",
    "        path, sep=\"\\t\", index=False\n",
    "    )"
   ]
  },
  {
   "cell_type": "code",
   "execution_count": 46,
   "id": "ee17d3e4-9fe2-442c-8cc2-a90745d25848",
   "metadata": {},
   "outputs": [],
   "source": [
    "for area in range(20, 101, 20):\n",
    "    brain.counts = copy.copy(count_bak)\n",
    "    if area != 100:\n",
    "        size_factor = sqrt(area / 100)\n",
    "        radius = tuple(int(i * size_factor / 2) for i in brain.shape)\n",
    "        crop = tuple((c - r, c + r + 1) for c, r in zip(center, radius))\n",
    "        brain.counts.crop(*crop)\n",
    "    transcripts = brain.counts.as_dataframe().to_pandas()\n",
    "    for subsample in range(20, 101, 20):\n",
    "        subsampled_tr = transcripts.groupby(\"gene\", observed=True).sample(\n",
    "            frac=subsample / 100, random_state=seed\n",
    "        )\n",
    "        path = analysis_path / f\"Brain_area{area}%_subsample{subsample}%.tsv\"\n",
    "        write_gem(subsampled_tr, path)"
   ]
  },
  {
   "cell_type": "code",
   "execution_count": 47,
   "id": "db511b23-3b07-41b6-84f3-370d51f90136",
   "metadata": {},
   "outputs": [],
   "source": [
    "gene_file = analysis_path / \"genes_8k.txt\"\n",
    "signature_file = Path(\".\") / \"yao_brain_signatures_log.tsv\"\n",
    "\n",
    "jobs = []\n",
    "\n",
    "for area in range(20, 101, 20):\n",
    "    for subsample in range(20, 101, 20):\n",
    "        input_file = analysis_path / f\"Brain_area{area}%_subsample{subsample}%.tsv.gz\"\n",
    "\n",
    "        cmd = (\n",
    "            f\"{script_file.resolve()} {input_file} {signature_file} \"\n",
    "            \"--n_threads 8 \"\n",
    "            f\"--genes {gene_file}\"\n",
    "        )\n",
    "\n",
    "        id_string = os.popen(\n",
    "            \"sbatch -J sainsc_benchmark --mem=32G -n 8 -N 1 \"\n",
    "            f\"-o {analysis_path/f'{area}area_{subsample}frac_log.txt'} \"\n",
    "            \"--time=2:00:00 \"\n",
    "            \"--exclusive \"\n",
    "            f\"{partition} \"\n",
    "            f'--wrap=\"{conda_cmd} && {cmd}\" '\n",
    "        ).read()\n",
    "\n",
    "        jobs.append((id_string, area, subsample))"
   ]
  },
  {
   "cell_type": "code",
   "execution_count": null,
   "id": "58769936-d29b-4722-8359-5ee71387cdab",
   "metadata": {},
   "outputs": [],
   "source": [
    "jobs = pd.DataFrame(jobs, columns=[\"jobid\", \"area\", \"fraction_beads\"]).assign(\n",
    "    jobid=lambda df: df[\"jobid\"].str.extract(\"(\\d+)\\s$\").astype(int)\n",
    ")"
   ]
  },
  {
   "cell_type": "code",
   "execution_count": 49,
   "id": "7c74323a-c8b3-4c1b-93a1-491b18898559",
   "metadata": {},
   "outputs": [],
   "source": [
    "jobs.to_csv(analysis_path / \"sainsc_benchmark_area_fraction.tsv\", sep=\"\\t\", index=False)"
   ]
  },
  {
   "cell_type": "markdown",
   "id": "59303e90-04e4-4851-818b-353f1922ac40",
   "metadata": {},
   "source": [
    "# MERFISH"
   ]
  },
  {
   "cell_type": "code",
   "execution_count": 6,
   "id": "f74bf2a0-1f19-4d2f-8731-e48922aa585b",
   "metadata": {},
   "outputs": [],
   "source": [
    "merfish_file = data_path / \"MERFISH\" / \"spots_220613_wb3_sa1_2_5z18R_merfish5.csv\"\n",
    "script_file = Path(\".\") / \"sainsc_benchmark_MERFISH.py\"\n",
    "signature_file = Path(\".\") / \"yao_brain_signatures.tsv\""
   ]
  },
  {
   "cell_type": "code",
   "execution_count": 7,
   "id": "f7ad4138-948f-437c-926f-b43e80d9c622",
   "metadata": {},
   "outputs": [
    {
     "name": "stdout",
     "output_type": "stream",
     "text": [
      "Submitted batch job 3791196\n",
      "\n"
     ]
    }
   ],
   "source": [
    "cmd = f\"{script_file.resolve()} {merfish_file} {signature_file} --n_threads 8\"\n",
    "\n",
    "id_string = os.popen(\n",
    "    \"sbatch -J sainsc_merfish --mem=32G -n 8 -N 1 \"\n",
    "    f\"-o {analysis_path/'merfish_log.txt'} \"\n",
    "    \"--time=1:00:00 \"\n",
    "    \"--exclusive \"\n",
    "    f\"{partition} \"\n",
    "    f'--wrap=\"{conda_cmd} && {cmd}\" '\n",
    ").read()\n",
    "\n",
    "print(id_string)"
   ]
  }
 ],
 "metadata": {
  "kernelspec": {
   "display_name": "Python [conda env:muellni-sainsc2]",
   "language": "python",
   "name": "conda-env-muellni-sainsc2-py"
  },
  "language_info": {
   "codemirror_mode": {
    "name": "ipython",
    "version": 3
   },
   "file_extension": ".py",
   "mimetype": "text/x-python",
   "name": "python",
   "nbconvert_exporter": "python",
   "pygments_lexer": "ipython3",
   "version": "3.10.14"
  }
 },
 "nbformat": 4,
 "nbformat_minor": 5
}
