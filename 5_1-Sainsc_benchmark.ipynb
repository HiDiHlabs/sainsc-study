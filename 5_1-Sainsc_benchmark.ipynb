{
 "cells": [
  {
   "cell_type": "markdown",
   "id": "e4ea2584-c27e-4586-a54e-cb3f6362378d",
   "metadata": {},
   "source": [
    "# Imports and files"
   ]
  },
  {
   "cell_type": "code",
   "execution_count": 8,
   "id": "abc1f85f-3107-4ddd-9ede-b11e746a9fb0",
   "metadata": {},
   "outputs": [],
   "source": [
    "import os\n",
    "from datetime import datetime\n",
    "from pathlib import Path\n",
    "\n",
    "import pandas as pd"
   ]
  },
  {
   "cell_type": "code",
   "execution_count": 9,
   "id": "26dadab4-992a-4ac0-8a1f-8847778e1068",
   "metadata": {},
   "outputs": [],
   "source": [
    "data_path = Path(\"data\")\n",
    "analysis_path = Path(\"benchmark\")\n",
    "\n",
    "stereo_seq_file = data_path / \"StereoSeq\" / \"Mouse_brain_Adult_GEM_bin1.tsv.gz\"\n",
    "\n",
    "signature_file = Path(\".\") / \"yao_brain_signatures_log.tsv\"\n",
    "script_file = Path(\".\") / \"sainsc_benchmark.py\"\n",
    "\n",
    "de_genes_file = data_path / \"ABC_atlas\" / \"DE_genes.xlsx\"\n",
    "ficture_file = Path(\"FICTURE/minimal_nthread1/analysis/nF42.d_15\") / \"nF42.d_15.posterior.count.tsv.gz\"\n",
    "\n",
    "result_dir = Path(\"results\")\n",
    "performance_metric_file = result_dir / \"benchmark_sainsc_genes_vs_signatures.tsv\""
   ]
  },
  {
   "cell_type": "code",
   "execution_count": 10,
   "id": "d8fad77b-1fc3-416d-96df-6958f46a764b",
   "metadata": {},
   "outputs": [],
   "source": [
    "analysis_path.mkdir(exist_ok=True, parents=True)"
   ]
  },
  {
   "cell_type": "code",
   "execution_count": 11,
   "id": "ab179611-090b-45ef-91e2-46aa03b7b90b",
   "metadata": {},
   "outputs": [],
   "source": [
    "n_threads = 8"
   ]
  },
  {
   "cell_type": "code",
   "execution_count": 12,
   "id": "caeef8a3-212d-4b73-93ca-e34290f5bf02",
   "metadata": {},
   "outputs": [],
   "source": [
    "conda_env = \"sainsc\"\n",
    "conda_path = \"~/miniconda3/bin/activate\""
   ]
  },
  {
   "cell_type": "code",
   "execution_count": 13,
   "id": "4cab5864-3139-421b-91d2-8c87c7fab603",
   "metadata": {},
   "outputs": [],
   "source": [
    "conda_cmd = f\"source {conda_path} {conda_env}\"\n",
    "\n",
    "cmd = (\n",
    "    f\"{script_file.resolve()} {stereo_seq_file} {signature_file} \"\n",
    "    f\"--n_threads {n_threads}\"\n",
    ")"
   ]
  },
  {
   "cell_type": "code",
   "execution_count": 8,
   "id": "3e2e7b96-476f-4451-9b07-46a33fd9cfa6",
   "metadata": {},
   "outputs": [
    {
     "name": "stdout",
     "output_type": "stream",
     "text": [
      "Submitted batch job 3769989\n",
      "\n"
     ]
    }
   ],
   "source": [
    "gene_file = analysis_path / \"genes_8k.txt\"\n",
    "\n",
    "pd.read_excel(\n",
    "    de_genes_file, sheet_name=\"DE_gene_list\", header=None, names=[\"gene\"]\n",
    ").loc[:, \"gene\"].to_csv(gene_file, header=False, index=False)\n",
    "\n",
    "cmd_subset = cmd + f\" --genes {gene_file}\"\n",
    "\n",
    "id_string = os.popen(\n",
    "    \"sbatch -J sainsc_8k --mem=128G -n 8 -N 1 \"\n",
    "    f\"-o {analysis_path/'8k_genes_log.txt'} \"\n",
    "    \"--time=48:00:00 \"\n",
    "    f'--wrap=\"{conda_cmd} && {cmd_subset}\" '\n",
    ").read()\n",
    "\n",
    "print(id_string)"
   ]
  },
  {
   "cell_type": "code",
   "execution_count": 14,
   "id": "b40d179b-c5ab-4f9f-b665-32f1ea13fd14",
   "metadata": {},
   "outputs": [
    {
     "name": "stdout",
     "output_type": "stream",
     "text": [
      "Submitted batch job 3774459\n",
      "\n"
     ]
    }
   ],
   "source": [
    "gene_file = analysis_path / \"genes_ficture.txt\"\n",
    "\n",
    "pd.read_table(ficture_file, usecols=[\"gene\"]).to_csv(\n",
    "    gene_file, header=False, index=False\n",
    ")\n",
    "\n",
    "cmd_subset = cmd + f\" --genes {gene_file}\"\n",
    "\n",
    "id_string = os.popen(\n",
    "    \"sbatch -J sainsc_ficture --mem=128G -n 8 -N 1 \"\n",
    "    f\"-o {analysis_path/'ficture_genes_log.txt'} \"\n",
    "    \"--time=48:00:00 \"\n",
    "    f'--wrap=\"{conda_cmd} && {cmd_subset}\" '\n",
    ").read()\n",
    "\n",
    "print(id_string)"
   ]
  },
  {
   "cell_type": "markdown",
   "id": "6e7258e1-1a38-4934-82db-5892c6dfbb82",
   "metadata": {},
   "source": [
    "## How many genes from the signatures are used?"
   ]
  },
  {
   "cell_type": "code",
   "execution_count": 3,
   "id": "341bfa2c-b46b-4aa6-ac9d-4dff48051ff9",
   "metadata": {},
   "outputs": [],
   "source": [
    "from sainsc import read_StereoSeq"
   ]
  },
  {
   "cell_type": "code",
   "execution_count": 4,
   "id": "4df4cf8e-842a-436f-a197-7fd4120e11b5",
   "metadata": {},
   "outputs": [],
   "source": [
    "brain = read_StereoSeq(stereo_seq_file)"
   ]
  },
  {
   "cell_type": "code",
   "execution_count": 5,
   "id": "7503495c-a9c8-4914-ade2-83e9954a5dae",
   "metadata": {},
   "outputs": [],
   "source": [
    "signature_genes = pd.read_table(signature_file, index_col=0).index"
   ]
  },
  {
   "cell_type": "code",
   "execution_count": 6,
   "id": "f8d4f223-ce09-435f-92ca-c8ab56aee685",
   "metadata": {},
   "outputs": [
    {
     "data": {
      "text/plain": [
       "7972"
      ]
     },
     "execution_count": 6,
     "metadata": {},
     "output_type": "execute_result"
    }
   ],
   "source": [
    "# 8k ABC atlas DE genes\n",
    "signature_genes.isin(\n",
    "    pd.read_excel(\n",
    "        de_genes_file, sheet_name=\"DE_gene_list\", header=None, names=[\"gene\"]\n",
    "    )[\"gene\"]\n",
    ").sum()"
   ]
  },
  {
   "cell_type": "code",
   "execution_count": 7,
   "id": "fac65732-d221-495f-b4a5-a06263108712",
   "metadata": {},
   "outputs": [
    {
     "data": {
      "text/plain": [
       "19708"
      ]
     },
     "execution_count": 7,
     "metadata": {},
     "output_type": "execute_result"
    }
   ],
   "source": [
    "# Genes used by Ficture\n",
    "signature_genes.isin(pd.read_table(ficture_file, usecols=[\"gene\"])[\"gene\"]).sum()"
   ]
  },
  {
   "cell_type": "markdown",
   "id": "566c3304-b4f7-451f-8fa5-c7b7cba4812c",
   "metadata": {},
   "source": [
    "# Scaling with #genes / #signatures"
   ]
  },
  {
   "cell_type": "code",
   "execution_count": null,
   "id": "ef94b686-e90c-43d2-a594-205435fd911b",
   "metadata": {},
   "outputs": [],
   "source": [
    "import random\n",
    "\n",
    "from sainsc import read_StereoSeq"
   ]
  },
  {
   "cell_type": "code",
   "execution_count": null,
   "id": "3f649673-0889-455a-9801-8822593c09ce",
   "metadata": {},
   "outputs": [],
   "source": [
    "random.seed(42)"
   ]
  },
  {
   "cell_type": "code",
   "execution_count": 5,
   "id": "85b73d63-6b8e-4dde-9f48-2ce4aa6f2167",
   "metadata": {},
   "outputs": [],
   "source": [
    "signatures = pd.read_table(signature_file, index_col=0)"
   ]
  },
  {
   "cell_type": "code",
   "execution_count": 7,
   "id": "97c96f8c-706d-4a16-849f-cb4762802617",
   "metadata": {},
   "outputs": [],
   "source": [
    "brain = read_StereoSeq(stereo_seq_file)"
   ]
  },
  {
   "cell_type": "code",
   "execution_count": 9,
   "id": "679c275a-fdf7-4c74-b85f-eb3ec9dba95d",
   "metadata": {},
   "outputs": [],
   "source": [
    "signatures = signatures.loc[lambda df: df.index.isin(brain.genes)]"
   ]
  },
  {
   "cell_type": "code",
   "execution_count": 16,
   "id": "4d72c978-54a4-494f-920d-7833ce5c2b37",
   "metadata": {},
   "outputs": [],
   "source": [
    "# sample gene sets\n",
    "for i in range(7):\n",
    "    n_genes = 250 * 2**i\n",
    "    genes = random.sample(signatures.index.tolist(), n_genes)\n",
    "    with open(analysis_path / f\"genes_n{n_genes}.txt\", \"w\") as f:\n",
    "        f.write(\"\\n\".join(genes))"
   ]
  },
  {
   "cell_type": "code",
   "execution_count": 17,
   "id": "64b22dff-6158-49f0-80f7-187ac18b9a95",
   "metadata": {},
   "outputs": [],
   "source": [
    "# sample signatures\n",
    "for n_sig in [10, 15, 20, 30, 40]:\n",
    "    celltypes = random.sample(signatures.columns.tolist(), n_sig)\n",
    "    signatures.loc[:, celltypes].to_csv(\n",
    "        analysis_path / f\"sig_n{len(celltypes)}.tsv\", sep=\"\\t\"\n",
    "    )"
   ]
  },
  {
   "cell_type": "code",
   "execution_count": 18,
   "id": "adc85d27-9f77-4919-bde2-5ecf599cbed8",
   "metadata": {},
   "outputs": [],
   "source": [
    "n_threads = 8"
   ]
  },
  {
   "cell_type": "code",
   "execution_count": 22,
   "id": "8b3d636c-621b-40e3-bbce-f2dbfdf62529",
   "metadata": {},
   "outputs": [],
   "source": [
    "conda_env = \"sainsc\"\n",
    "conda_path = \"~/miniconda3/bin/activate\""
   ]
  },
  {
   "cell_type": "code",
   "execution_count": 23,
   "id": "23c01e27-a9d0-45da-ab54-e546f2ae67be",
   "metadata": {},
   "outputs": [],
   "source": [
    "conda_cmd = f\"source {conda_path} {conda_env}\""
   ]
  },
  {
   "cell_type": "code",
   "execution_count": 27,
   "id": "aa47ceb5-5c34-4560-9e9f-76c54d4f709a",
   "metadata": {},
   "outputs": [],
   "source": [
    "jobs = []\n",
    "\n",
    "for i in range(7):\n",
    "    for n_sig in [10, 15, 20, 30, 40]:\n",
    "        n_genes = 250 * 2**i\n",
    "        gene_file = analysis_path / f\"genes_n{n_genes}.txt\"\n",
    "        signature_file = analysis_path / f\"sig_n{n_sig}.tsv\"\n",
    "\n",
    "        cmd = (\n",
    "            f\"{script_file.resolve()} {stereo_seq_file} {signature_file} \"\n",
    "            f\"--n_threads {n_threads} \"\n",
    "            f\"--genes {gene_file}\"\n",
    "        )\n",
    "\n",
    "        id_string = os.popen(\n",
    "            \"sbatch -J sainsc_benchmark --mem=64G -n 8 -N 1 \"\n",
    "            f\"-o {analysis_path/f'{n_genes}genes_{n_sig}sigs_log.txt'} \"\n",
    "            \"--time=6:00:00 \"\n",
    "            f'--wrap=\"{conda_cmd} && {cmd}\" '\n",
    "        ).read()\n",
    "\n",
    "        jobs.append((id_string, n_genes, n_sig))"
   ]
  },
  {
   "cell_type": "code",
   "execution_count": 36,
   "id": "10caab6f-8585-4973-9236-1821439846ea",
   "metadata": {},
   "outputs": [],
   "source": [
    "jobs = pd.DataFrame(jobs, columns=[\"jobid\", \"n_genes\", \"n_signatures\"]).assign(\n",
    "    jobid=lambda df: df[\"jobid\"].str.extract(\"(\\d+)\\s$\").astype(int)\n",
    ")"
   ]
  },
  {
   "cell_type": "code",
   "execution_count": 38,
   "id": "1e9a87a5-7706-44a1-b60b-52ed1f169313",
   "metadata": {},
   "outputs": [],
   "source": [
    "jobs.to_csv(analysis_path / \"sainsc_benchmark_jobs.tsv\", sep=\"\\t\", index=False)"
   ]
  },
  {
   "cell_type": "markdown",
   "id": "facfdf9a-5452-46d0-9da0-b630cb7afb51",
   "metadata": {},
   "source": [
    "Wait until jobs finish successsfully."
   ]
  },
  {
   "cell_type": "code",
   "execution_count": 57,
   "id": "a1d06fbc-6201-4e06-853f-ba5c276e1618",
   "metadata": {},
   "outputs": [],
   "source": [
    "from io import StringIO"
   ]
  },
  {
   "cell_type": "code",
   "execution_count": 61,
   "id": "e2e9bdcf-bb24-4727-9362-f95641e364ee",
   "metadata": {},
   "outputs": [],
   "source": [
    "jobs = jobs.set_index(\"jobid\")"
   ]
  },
  {
   "cell_type": "code",
   "execution_count": 153,
   "id": "b59f6d27-0abd-4297-9c91-0022736ac5eb",
   "metadata": {},
   "outputs": [],
   "source": [
    "job_stats = os.popen(\n",
    "    (\n",
    "        \"sacct \"\n",
    "        f\"-j {','.join(jobs.index.astype(str))} \"\n",
    "        \"--starttime 2024-07-1015:30:00 \"\n",
    "        \"--format='JobID,Jobname%50,TotalCPU,ElapsedRaw,MaxRSS' \"\n",
    "        \"-P \"\n",
    "        \"--delimiter=$'\\t' \"\n",
    "        \"--units=M \"\n",
    "    )\n",
    ").read()\n",
    "\n",
    "job_stats = pd.read_table(StringIO(job_stats))"
   ]
  },
  {
   "cell_type": "code",
   "execution_count": 154,
   "id": "6e569192-c60d-4f67-9cea-9ec2d0ec597c",
   "metadata": {},
   "outputs": [],
   "source": [
    "cpu_stats = (\n",
    "    job_stats.loc[\n",
    "        lambda df: ~df[\"JobID\"].str.contains(\".\", regex=False),\n",
    "        [\"JobID\", \"JobName\", \"TotalCPU\", \"ElapsedRaw\"],\n",
    "    ]\n",
    "    .assign(\n",
    "        JobID=lambda df: df[\"JobID\"].astype(int),\n",
    "        TotalCPU=lambda df: (\"00:\" + df[\"TotalCPU\"]).str.extract(\n",
    "            \"(\\d{2}:\\d{2}:\\d{2}(?:\\.\\d+)?)$\"\n",
    "        ),\n",
    "    )\n",
    "    .assign(\n",
    "        TotalCPU=lambda df: pd.to_timedelta(df[\"TotalCPU\"]).dt.total_seconds(),\n",
    "    )\n",
    "    .set_index(\"JobID\")\n",
    "    .rename(columns={\"TotalCPU\": \"CPU time [s]\", \"ElapsedRaw\": \"wall time [s]\"})\n",
    ")"
   ]
  },
  {
   "cell_type": "code",
   "execution_count": 155,
   "id": "0296176a-1f45-4c03-8022-0ef44ec959a0",
   "metadata": {},
   "outputs": [],
   "source": [
    "memory_stats = (\n",
    "    job_stats.loc[\n",
    "        lambda df: df[\"JobID\"].str.contains(\".batch\", regex=False), [\"JobID\", \"MaxRSS\"]\n",
    "    ]\n",
    "    .assign(\n",
    "        JobID=lambda df: df[\"JobID\"].str.extract(\"(\\d+)\").astype(int),\n",
    "        MaxRSS=lambda df: df[\"MaxRSS\"].str.extract(\"([\\d\\\\.]+)\").astype(float),\n",
    "    )\n",
    "    .set_index(\"JobID\")\n",
    "    .rename(columns={\"MaxRSS\": \"max memory [MB]\"})\n",
    ")"
   ]
  },
  {
   "cell_type": "code",
   "execution_count": 156,
   "id": "23062ee2-824c-4ee4-974b-b8382396f164",
   "metadata": {},
   "outputs": [],
   "source": [
    "stats = cpu_stats.join(memory_stats).join(jobs, how=\"inner\").drop(columns=[\"JobName\"])"
   ]
  },
  {
   "cell_type": "code",
   "execution_count": 157,
   "id": "acfc1116-8d34-4e0a-8bd8-b2572b334728",
   "metadata": {},
   "outputs": [],
   "source": [
    "stats.to_csv(performance_metric_file, sep=\"\\t\", index=False)"
   ]
  },
  {
   "cell_type": "code",
   "execution_count": null,
   "id": "5f975518-1244-4f11-94f0-d63b3e2d1b46",
   "metadata": {},
   "outputs": [],
   "source": []
  }
 ],
 "metadata": {
  "kernelspec": {
   "display_name": "Python [conda env:muellni-sainsc]",
   "language": "python",
   "name": "conda-env-muellni-sainsc-py"
  },
  "language_info": {
   "codemirror_mode": {
    "name": "ipython",
    "version": 3
   },
   "file_extension": ".py",
   "mimetype": "text/x-python",
   "name": "python",
   "nbconvert_exporter": "python",
   "pygments_lexer": "ipython3",
   "version": "3.10.14"
  }
 },
 "nbformat": 4,
 "nbformat_minor": 5
}
