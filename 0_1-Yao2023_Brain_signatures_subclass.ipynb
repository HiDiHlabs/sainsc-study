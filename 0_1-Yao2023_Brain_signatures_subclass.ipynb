{
 "cells": [
  {
   "cell_type": "code",
   "execution_count": 1,
   "id": "20f92b78-c30e-468e-9626-a5ce52b9ecd1",
   "metadata": {},
   "outputs": [],
   "source": [
    "from pathlib import Path\n",
    "\n",
    "import anndata as ad\n",
    "import pandas as pd\n",
    "import scanpy as sc"
   ]
  },
  {
   "cell_type": "code",
   "execution_count": 2,
   "id": "d4b475cb-b41e-4de6-b200-7e08dc545547",
   "metadata": {},
   "outputs": [],
   "source": [
    "data_path = Path(\"data\") / \"ABC_atlas\"\n",
    "\n",
    "de_genes_file = data_path / \"DE_genes.xlsx\""
   ]
  },
  {
   "cell_type": "code",
   "execution_count": 3,
   "id": "0aa1c741-b2c9-4a0b-ab17-a3803b8d55fc",
   "metadata": {
    "scrolled": true
   },
   "outputs": [],
   "source": [
    "region_annotation = pd.read_csv(data_path / \"region_of_interest_metadata.csv\")"
   ]
  },
  {
   "cell_type": "code",
   "execution_count": 4,
   "id": "e1d36d49-2e11-4b9a-8cf1-62cb0265a995",
   "metadata": {
    "scrolled": true
   },
   "outputs": [],
   "source": [
    "genes = pd.read_csv(data_path / \"gene.csv\", index_col=0)"
   ]
  },
  {
   "cell_type": "code",
   "execution_count": 5,
   "id": "1595787c-0008-460b-91f5-d1f445e8111d",
   "metadata": {},
   "outputs": [],
   "source": [
    "de_genes = pd.read_excel(\n",
    "    de_genes_file, sheet_name=\"DE_gene_list\", header=None, names=[\"gene\"]\n",
    ").loc[:, \"gene\"]"
   ]
  },
  {
   "cell_type": "code",
   "execution_count": 6,
   "id": "57bcb66e-02aa-4114-b200-7d0f44242637",
   "metadata": {
    "scrolled": true
   },
   "outputs": [],
   "source": [
    "cell_metadata = pd.read_csv(\n",
    "    data_path / \"cell_metadata_with_cluster_annotation.csv\",\n",
    "    usecols=[\"cell_label\", \"class\", \"subclass\"],\n",
    "    index_col=\"cell_label\",\n",
    "    dtype={\"class\": \"category\", \"subclass\": \"category\"},\n",
    "    low_memory=False,\n",
    ").loc[:, lambda df: ~df.columns.str.contains(\"color\")]"
   ]
  },
  {
   "cell_type": "code",
   "execution_count": 7,
   "id": "e5451e18-aa70-4934-8912-33e5a4330d26",
   "metadata": {},
   "outputs": [],
   "source": [
    "adata = ad.concat(\n",
    "    [ad.read_h5ad(f) for f in (data_path / \"h5ad_files\").glob(\"*10Xv2*.h5ad\")]\n",
    ")\n",
    "\n",
    "adata.obs = adata.obs.join(cell_metadata[[\"class\", \"subclass\"]])\n",
    "\n",
    "adata = adata[adata.obs[\"subclass\"].notna()]"
   ]
  },
  {
   "cell_type": "code",
   "execution_count": 8,
   "id": "a538411a-7caa-485b-ab05-5789b4b518ed",
   "metadata": {},
   "outputs": [],
   "source": [
    "# subsample to 500 cells per subclass\n",
    "target_cells = 500\n",
    "\n",
    "subsampled = []\n",
    "for ct in adata.obs[\"subclass\"].cat.categories:\n",
    "    subsampled.append(adata[adata.obs[\"subclass\"] == ct])\n",
    "    if subsampled[-1].n_obs > target_cells:\n",
    "        sc.pp.subsample(subsampled[-1], n_obs=target_cells, random_state=1)\n",
    "\n",
    "adata = ad.concat(subsampled)"
   ]
  },
  {
   "cell_type": "code",
   "execution_count": 9,
   "id": "190cbba4-b474-4662-bcda-5ec25d13586c",
   "metadata": {},
   "outputs": [],
   "source": [
    "adata.write_h5ad(data_path / \"ABC_subsampled_subclass.h5ad\")"
   ]
  },
  {
   "cell_type": "code",
   "execution_count": 19,
   "id": "e3f7fc58-45fe-4df2-a06e-cdded805e6cd",
   "metadata": {},
   "outputs": [],
   "source": [
    "# drop empty genes\n",
    "adata = adata[:, adata.X.sum(axis=0) != 0]"
   ]
  },
  {
   "cell_type": "code",
   "execution_count": 20,
   "id": "9ab5a77e-e77f-4232-abda-8fff123d3bbf",
   "metadata": {},
   "outputs": [],
   "source": [
    "adata.var = adata.var.join(genes[\"gene_symbol\"]).reset_index().set_index(\"gene_symbol\")"
   ]
  },
  {
   "cell_type": "markdown",
   "id": "319859fe-93fa-474c-abff-f5fe2511069d",
   "metadata": {},
   "source": [
    "# Gene signatures"
   ]
  },
  {
   "cell_type": "code",
   "execution_count": 21,
   "id": "75686b98-8d30-4a63-b8f5-4e31a89e4cee",
   "metadata": {},
   "outputs": [],
   "source": [
    "sc.pp.normalize_total(adata, target_sum=1e4)"
   ]
  },
  {
   "cell_type": "code",
   "execution_count": 22,
   "id": "c8962f3e-a66b-4d2f-be80-8639dd7b770a",
   "metadata": {},
   "outputs": [],
   "source": [
    "adata = adata[:, adata.var_names.isin(de_genes)]"
   ]
  },
  {
   "cell_type": "code",
   "execution_count": 27,
   "id": "b0d19773-35f8-40b1-9418-0f02d14e464a",
   "metadata": {},
   "outputs": [
    {
     "data": {
      "text/plain": [
       "AnnData object with n_obs × n_vars = 106480 × 8454\n",
       "    obs: 'cell_barcode', 'library_label', 'anatomical_division_label', 'class', 'subclass'\n",
       "    var: 'gene_identifier'\n",
       "    uns: 'log1p'"
      ]
     },
     "execution_count": 27,
     "metadata": {},
     "output_type": "execute_result"
    }
   ],
   "source": [
    "adata"
   ]
  },
  {
   "cell_type": "code",
   "execution_count": 23,
   "id": "1bc7899e-747f-4af2-8b23-0e6e2f7deaf4",
   "metadata": {},
   "outputs": [],
   "source": [
    "from utils import celltype_signatures"
   ]
  },
  {
   "cell_type": "code",
   "execution_count": 24,
   "id": "6a125eef-5d5b-403a-b54a-4782f63db81c",
   "metadata": {},
   "outputs": [],
   "source": [
    "celltype_signatures(adata, celltype_col=\"subclass\").to_csv(\n",
    "    \"abc_brain_signatures_subclass.tsv\", sep=\"\\t\"\n",
    ")"
   ]
  },
  {
   "cell_type": "code",
   "execution_count": 25,
   "id": "70456a3d-75b1-4c00-8890-2fc5b96ea202",
   "metadata": {},
   "outputs": [
    {
     "name": "stderr",
     "output_type": "stream",
     "text": [
      "/dh-projects/ag-ishaque/analysis/muellni/envs/sainsc2/lib/python3.10/site-packages/scanpy/preprocessing/_simple.py:405: UserWarning: Received a view of an AnnData. Making a copy.\n",
      "  view_to_actual(adata)\n",
      "/dh-projects/ag-ishaque/analysis/muellni/envs/sainsc2/lib/python3.10/site-packages/anndata/_core/anndata.py:1820: UserWarning: Variable names are not unique. To make them unique, call `.var_names_make_unique`.\n",
      "  utils.warn_names_duplicates(\"var\")\n"
     ]
    }
   ],
   "source": [
    "sc.pp.log1p(adata)"
   ]
  },
  {
   "cell_type": "code",
   "execution_count": 26,
   "id": "f7762c54-2b3a-4da9-8079-bdf5b9b4a0e7",
   "metadata": {},
   "outputs": [],
   "source": [
    "celltype_signatures(adata, celltype_col=\"subclass\").to_csv(\n",
    "    \"abc_brain_signatures_subclass_log.tsv\", sep=\"\\t\"\n",
    ")"
   ]
  },
  {
   "cell_type": "code",
   "execution_count": null,
   "id": "007b715d-185c-4e4a-be8c-270a63200626",
   "metadata": {},
   "outputs": [],
   "source": []
  }
 ],
 "metadata": {
  "kernelspec": {
   "display_name": "Python [conda env:muellni-sainsc2]",
   "language": "python",
   "name": "conda-env-muellni-sainsc2-py"
  },
  "language_info": {
   "codemirror_mode": {
    "name": "ipython",
    "version": 3
   },
   "file_extension": ".py",
   "mimetype": "text/x-python",
   "name": "python",
   "nbconvert_exporter": "python",
   "pygments_lexer": "ipython3",
   "version": "3.10.14"
  }
 },
 "nbformat": 4,
 "nbformat_minor": 5
}
