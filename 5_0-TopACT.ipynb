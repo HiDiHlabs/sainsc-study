{
 "cells": [
  {
   "cell_type": "code",
   "execution_count": 1,
   "id": "2ea5d4d9-a8d4-4e3e-acd6-423c48919b67",
   "metadata": {},
   "outputs": [],
   "source": [
    "import os\n",
    "from datetime import datetime\n",
    "from pathlib import Path\n",
    "\n",
    "import anndata as ad\n",
    "import scanpy as sc"
   ]
  },
  {
   "cell_type": "code",
   "execution_count": 2,
   "id": "cad40065-f3f6-4c22-b75d-40d93c1c7e70",
   "metadata": {},
   "outputs": [],
   "source": [
    "# inputs\n",
    "data_path = Path(\"data\")\n",
    "stereo_seq_file = data_path / \"StereoSeq\" / \"Mouse_brain_Adult_GEM_bin1.tsv.gz\"\n",
    "training_data = data_path / \"Yao_subsampled.h5ad\"\n",
    "script_file = Path(\".\") / \"TopACT.py\"\n",
    "\n",
    "# number of proceses\n",
    "n_proc = 8\n",
    "\n",
    "# outputs\n",
    "topact_path = Path(\"TopACT\")\n",
    "\n",
    "training_path = topact_path / \"training.h5ad\""
   ]
  },
  {
   "cell_type": "code",
   "execution_count": 3,
   "id": "7d3cd6b4-529f-4794-aae7-584b944e627f",
   "metadata": {},
   "outputs": [],
   "source": [
    "topact_path.mkdir(parents=True, exist_ok=True)"
   ]
  },
  {
   "cell_type": "code",
   "execution_count": 4,
   "id": "474b513f-7e0c-41c8-a790-64d66ca66ec2",
   "metadata": {},
   "outputs": [
    {
     "name": "stdout",
     "output_type": "stream",
     "text": [
      "AnnData object with n_obs × n_vars = 37980 × 31053\n",
      "    obs: 'supertype_label', 'subclass_label'\n"
     ]
    }
   ],
   "source": [
    "sc_adata = ad.read_h5ad(training_data)\n",
    "\n",
    "# subsample to 1,000 cells per cell type\n",
    "target_cells = 1_000\n",
    "\n",
    "subsampled = []\n",
    "for ct in sc_adata.obs[\"subclass_label\"].cat.categories:\n",
    "    subsampled.append(sc_adata[sc_adata.obs[\"subclass_label\"] == ct])\n",
    "    if subsampled[-1].n_obs > target_cells:\n",
    "        sc.pp.subsample(subsampled[-1], n_obs=target_cells, random_state=42)\n",
    "\n",
    "sc_adata = ad.concat(subsampled)\n",
    "\n",
    "sc_adata.write_h5ad(training_path)\n",
    "\n",
    "print(sc_adata)"
   ]
  },
  {
   "cell_type": "code",
   "execution_count": 4,
   "id": "d3c038f4-3486-4a8b-9365-b8db612a8048",
   "metadata": {},
   "outputs": [],
   "source": [
    "conda_env = \"topact\"\n",
    "conda_path = \"~/miniconda3/bin/activate\"\n",
    "\n",
    "conda_cmd = f\"source {conda_path} {conda_env}\""
   ]
  },
  {
   "cell_type": "code",
   "execution_count": 5,
   "id": "7fcf545c-77d9-45ad-bd2c-d7f13de8c8dd",
   "metadata": {},
   "outputs": [],
   "source": [
    "partition = \"-p compute-96cpu-700GB-RAM\""
   ]
  },
  {
   "cell_type": "code",
   "execution_count": 7,
   "id": "b2951191-979f-4696-a471-3cb8c33ab8be",
   "metadata": {},
   "outputs": [
    {
     "name": "stdout",
     "output_type": "stream",
     "text": [
      "Submitted batch job 3791297\n",
      "\n"
     ]
    }
   ],
   "source": [
    "out_path = topact_path / \"analysis\"\n",
    "out_path.mkdir(parents=True, exist_ok=True)\n",
    "\n",
    "cmd = (\n",
    "    f\"{script_file.resolve()} {training_path} {stereo_seq_file} {out_path} \"\n",
    "    f\"--n_processes {n_proc}\"\n",
    ")\n",
    "\n",
    "id_string = os.popen(\n",
    "    f\"sbatch -J TopACT --mem=128G -n {n_proc} -N 1 \"\n",
    "    f\"-o {out_path/'log.txt'} \"\n",
    "    \"--time=7-00:00:00 \"\n",
    "    \"--exclusive \"\n",
    "    f\"{partition} \"\n",
    "    f'--wrap=\"{conda_cmd} && {cmd}\" '\n",
    ").read()\n",
    "\n",
    "print(id_string)"
   ]
  },
  {
   "cell_type": "code",
   "execution_count": null,
   "id": "45babb47-2ce8-4a51-84d9-e9bc2f7c2dbe",
   "metadata": {},
   "outputs": [],
   "source": []
  }
 ],
 "metadata": {
  "kernelspec": {
   "display_name": "Python [conda env:muellni-topact]",
   "language": "python",
   "name": "conda-env-muellni-topact-py"
  },
  "language_info": {
   "codemirror_mode": {
    "name": "ipython",
    "version": 3
   },
   "file_extension": ".py",
   "mimetype": "text/x-python",
   "name": "python",
   "nbconvert_exporter": "python",
   "pygments_lexer": "ipython3",
   "version": "3.10.14"
  }
 },
 "nbformat": 4,
 "nbformat_minor": 5
}
