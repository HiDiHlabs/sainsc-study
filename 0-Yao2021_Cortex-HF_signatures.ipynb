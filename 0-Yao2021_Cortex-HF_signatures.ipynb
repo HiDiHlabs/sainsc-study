{
 "cells": [
  {
   "cell_type": "markdown",
   "id": "40d43531-9f54-4ba0-9e39-a0fbef96b39b",
   "metadata": {},
   "source": [
    "Single cell data from scRNAseq 10x ([Yao et al 2021](https://doi.org/10.1016/j.cell.2021.04.021))"
   ]
  },
  {
   "cell_type": "raw",
   "id": "1042b068-ec03-48e7-a02a-6ef8565e45db",
   "metadata": {},
   "source": [
    "%%bash\n",
    "\n",
    "bdbag --materialize --output-path data/yao https://data.nemoarchive.org/publication_release/Zeng_Transcriptomic_Allen_SMARTer_10X_cells_Cortex_Hippocampus_2021/Analysis_Zeng_Hippocampus_10X.tgz"
   ]
  },
  {
   "cell_type": "code",
   "execution_count": 1,
   "id": "6242603b-c069-4d52-90dd-2036789b0e8f",
   "metadata": {},
   "outputs": [],
   "source": [
    "import math\n",
    "import urllib.request\n",
    "from pathlib import Path\n",
    "\n",
    "import anndata as ad\n",
    "import h5py\n",
    "import numpy as np\n",
    "import pandas as pd\n",
    "import scanpy as sc\n",
    "from scipy.sparse import csc_matrix, hstack"
   ]
  },
  {
   "cell_type": "code",
   "execution_count": 5,
   "id": "6db031cf-6dad-4328-83c2-d7e921d88524",
   "metadata": {},
   "outputs": [],
   "source": [
    "data_path = Path(\"data\")\n",
    "\n",
    "yao_path = (\n",
    "    data_path\n",
    "    / \"yao/Analysis_Zeng_Hippocampus_10X/data/10x_v2/mouse/processed/YaoHippo2020\"\n",
    ")\n",
    "\n",
    "de_genes_yao_file = data_path / \"yao_2021\" / \"DE_genes_yao2021.xlsx\""
   ]
  },
  {
   "cell_type": "code",
   "execution_count": null,
   "id": "75f29168-ca27-4c10-9ff3-07267a5107fe",
   "metadata": {},
   "outputs": [],
   "source": [
    "de_genes_yao_file.parent.mkdir(exist_ok=True, parents=True)\n",
    "\n",
    "url = \"https://ars.els-cdn.com/content/image/1-s2.0-S0092867421005018-mmc4.xlsx\"\n",
    "_ = urllib.request.urlretrieve(url, de_genes_yao_file)"
   ]
  },
  {
   "cell_type": "code",
   "execution_count": 7,
   "id": "f420ae40-5fbf-4af7-bea0-f1d0664bf3a3",
   "metadata": {},
   "outputs": [],
   "source": [
    "def get_anndata(path, n_chunks=20):\n",
    "    with h5py.File(path, \"r\") as f:\n",
    "        data = f[\"data\"]\n",
    "        samples = pd.DataFrame(index=pd.Index(data[\"samples\"][:]).astype(str))\n",
    "        genes = pd.DataFrame(index=pd.Index(data[\"gene\"][:]).astype(str))\n",
    "        shape = data[\"shape\"][:]\n",
    "\n",
    "        chunksize = math.ceil(data[\"counts\"].shape[1] / n_chunks)\n",
    "\n",
    "        counts = hstack(\n",
    "            [\n",
    "                csc_matrix(data[\"counts\"][:, i * chunksize : (i + 1) * chunksize])\n",
    "                for i in range(n_chunks)\n",
    "            ]\n",
    "        ).transpose()\n",
    "\n",
    "    return ad.AnnData(X=counts, obs=samples, var=genes)"
   ]
  },
  {
   "cell_type": "code",
   "execution_count": 8,
   "id": "c70a1227-7b60-4970-9a17-aeb23ad57065",
   "metadata": {},
   "outputs": [],
   "source": [
    "adata = get_anndata(yao_path / \"CTX_Hip_counts_10x.h5\")\n",
    "\n",
    "anno = (\n",
    "    pd.read_csv(\n",
    "        yao_path / \"CTX_Hip_anno_10x.csv.tar\",\n",
    "        usecols=[\"sample_name\", \"supertype_label\", \"subclass_label\"],\n",
    "    )\n",
    "    .set_index(\"sample_name\")\n",
    "    .astype({\"subclass_label\": \"category\"})\n",
    ")\n",
    "\n",
    "adata.obs = adata.obs.join(anno)"
   ]
  },
  {
   "cell_type": "code",
   "execution_count": 9,
   "id": "ea72e7bd-0407-4e10-979f-36aff4dad855",
   "metadata": {},
   "outputs": [],
   "source": [
    "adata.write_h5ad(data_path / \"Yao.h5ad\")"
   ]
  },
  {
   "cell_type": "code",
   "execution_count": 11,
   "id": "7fd71c0a-59ae-424a-ba6b-44e5ce89ec62",
   "metadata": {},
   "outputs": [
    {
     "data": {
      "text/plain": [
       "subclass_label\n",
       "L4/5 IT CTX      275960\n",
       "L6 CT CTX        148752\n",
       "L2/3 IT CTX      127961\n",
       "L6 IT CTX         78297\n",
       "DG                58948\n",
       "L5 IT CTX         58190\n",
       "L2/3 IT PPP       46476\n",
       "Sst               45467\n",
       "Vip               43684\n",
       "Lamp5             42144\n",
       "L5 NP CTX         31703\n",
       "Pvalb             30461\n",
       "Car3              22457\n",
       "L6b/CT ENT        20269\n",
       "L5 PT CTX         17260\n",
       "CA1-ProS          15897\n",
       "L6b CTX           15050\n",
       "Sncg              13877\n",
       "L3 IT ENT         13362\n",
       "Oligo              8987\n",
       "L2/3 IT ENTl       6433\n",
       "CT SUB             5769\n",
       "L5 IT TPE-ENT      5749\n",
       "L4 RSP-ACA         4593\n",
       "L2  IT ENTl        4568\n",
       "SUB-ProS           4187\n",
       "Astro              3899\n",
       "L2/3 IT RHP        3096\n",
       "NP PPP             2612\n",
       "L2 IT ENTm         2225\n",
       "Sst Chodl          1961\n",
       "NP SUB             1870\n",
       "CA3                1675\n",
       "L6 IT ENTl         1211\n",
       "L5 PPP             1183\n",
       "Endo                960\n",
       "Micro-PVM           955\n",
       "IG-FC               328\n",
       "SMC-Peri            288\n",
       "CR                  277\n",
       "VLMC                152\n",
       "Meis2                20\n",
       "Name: count, dtype: int64"
      ]
     },
     "execution_count": 11,
     "metadata": {},
     "output_type": "execute_result"
    }
   ],
   "source": [
    "adata.obs[\"subclass_label\"].value_counts()"
   ]
  },
  {
   "cell_type": "code",
   "execution_count": 12,
   "id": "5c24ce65-b4d0-4ca0-a824-2e7f607e987e",
   "metadata": {},
   "outputs": [],
   "source": [
    "# subsample to 5,000 cells per cell type\n",
    "target_cells = 5_000\n",
    "\n",
    "subsampled = []\n",
    "for ct in adata.obs[\"subclass_label\"].cat.categories:\n",
    "    subsampled.append(adata[adata.obs[\"subclass_label\"] == ct])\n",
    "    if subsampled[-1].n_obs > target_cells:\n",
    "        sc.pp.subsample(subsampled[-1], n_obs=target_cells, random_state=1)\n",
    "\n",
    "adata = ad.concat(subsampled)"
   ]
  },
  {
   "cell_type": "code",
   "execution_count": 13,
   "id": "327d69b8-efac-4365-916c-d40a792a0d44",
   "metadata": {},
   "outputs": [
    {
     "data": {
      "text/plain": [
       "AnnData object with n_obs × n_vars = 151060 × 31053\n",
       "    obs: 'supertype_label', 'subclass_label'"
      ]
     },
     "execution_count": 13,
     "metadata": {},
     "output_type": "execute_result"
    }
   ],
   "source": [
    "adata"
   ]
  },
  {
   "cell_type": "code",
   "execution_count": 14,
   "id": "8363f893-9cbf-4b19-b0b4-e222a60037c0",
   "metadata": {},
   "outputs": [],
   "source": [
    "adata.write_h5ad(data_path / \"Yao_subsampled.h5ad\")"
   ]
  },
  {
   "cell_type": "raw",
   "id": "f165e909-1536-4916-80be-058f26593366",
   "metadata": {},
   "source": [
    "adata = ad.read_h5ad(data_path / \"Yao_subsampled.h5ad\")"
   ]
  },
  {
   "cell_type": "code",
   "execution_count": 8,
   "id": "8ffc1c2a-eac6-4f6e-a0bc-2d06b202f4d8",
   "metadata": {},
   "outputs": [],
   "source": [
    "adata = adata[:, adata.X.sum(axis=0) != 0]"
   ]
  },
  {
   "cell_type": "markdown",
   "id": "7c98cb46-4e9e-483a-b348-22cbc0531943",
   "metadata": {},
   "source": [
    "# Gene signatures"
   ]
  },
  {
   "cell_type": "code",
   "execution_count": 10,
   "id": "5f3d6886-8658-4748-8fab-a91d559fdd10",
   "metadata": {},
   "outputs": [],
   "source": [
    "from utils import celltype_signatures"
   ]
  },
  {
   "cell_type": "code",
   "execution_count": 11,
   "id": "85640b0b-f419-41b0-bac1-bf3e182867bb",
   "metadata": {},
   "outputs": [],
   "source": [
    "sc.pp.normalize_total(adata, target_sum=1e4)"
   ]
  },
  {
   "cell_type": "code",
   "execution_count": 12,
   "id": "7b32f0af-8146-42c4-80eb-d955c46be809",
   "metadata": {},
   "outputs": [],
   "source": [
    "celltype_signatures(adata, celltype_col=\"subclass_label\").to_csv(\n",
    "    \"yao_brain_signatures.tsv\", sep=\"\\t\"\n",
    ")"
   ]
  },
  {
   "cell_type": "code",
   "execution_count": null,
   "id": "93f83f2c-3142-4b69-aa2c-29e85c471e90",
   "metadata": {},
   "outputs": [],
   "source": [
    "sc.pp.log1p(adata)"
   ]
  },
  {
   "cell_type": "code",
   "execution_count": null,
   "id": "75a0d7f4-bc0d-4acb-9638-8b1d8536ae2e",
   "metadata": {},
   "outputs": [],
   "source": [
    "celltype_signatures(adata, celltype_col=\"subclass_label\").to_csv(\n",
    "    \"yao_brain_signatures_log.tsv\", sep=\"\\t\"\n",
    ")"
   ]
  }
 ],
 "metadata": {
  "kernelspec": {
   "display_name": "Python [conda env:muellni-abc_atlas]",
   "language": "python",
   "name": "conda-env-muellni-abc_atlas-py"
  },
  "language_info": {
   "codemirror_mode": {
    "name": "ipython",
    "version": 3
   },
   "file_extension": ".py",
   "mimetype": "text/x-python",
   "name": "python",
   "nbconvert_exporter": "python",
   "pygments_lexer": "ipython3",
   "version": "3.12.3"
  }
 },
 "nbformat": 4,
 "nbformat_minor": 5
}
